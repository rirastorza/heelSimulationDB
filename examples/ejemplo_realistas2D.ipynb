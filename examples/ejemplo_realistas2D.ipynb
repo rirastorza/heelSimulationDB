{
 "cells": [
  {
   "cell_type": "markdown",
   "metadata": {
    "id": "r478pucemLL0"
   },
   "source": [
    "# Ejemplo de modelos realistas\n",
    "\n",
    "\n",
    "Los valores revisados en la bibliografía y los ejemplos simulados se muestran en detalle en nuestro trabajo:\n",
    "\n",
    "https://doi.org/10.1088/2057-1976/ab3330\n",
    "\n",
    "Son cortes de muñeca y de tobillo. Pueden tener cuatro tipos de tejidos, cuyas propiedades dieléctricas en $f=1300$ MHz son: \n",
    "\n",
    "- *Skin wet*, variable entre $\\varepsilon_r = [28.0, 46.8]$ y $\\sigma = [1.00, 1.08]$ S/m y un espesor variable entre $[1.46, 2.88]$ mm.\n",
    "- *Muscle* variable entre $\\varepsilon_r = [29.0, 70.0]$ y  $\\sigma = [0.90, 1.55]$ S/m. \n",
    "- *Cortical bone* fijo $\\varepsilon_r =12.1$ y  $\\sigma =  0.20$ S/m, espesor variable entre $[0.50, 3.00]$ mm\n",
    "- *Trabecular bone* variable entre $\\varepsilon_r = [12.5, 20.1]$ y  $\\sigma =  [0.44, 0.92]$ S/m. \n",
    "\n",
    "El medio de acoplamiento puede ser agua destilada y sal, es la solución estudiada en este trabajo (https://doi.org/10.1118/1.4788640), en particular es la solución *salt 17.5* cuyas propiedades dieléctricas relativas son: $ɛ^{*}_r≈ 76.95-26.97j$.\n"
   ]
  },
  {
   "cell_type": "markdown",
   "metadata": {
    "id": "Hk_AAqXpmLL3"
   },
   "source": [
    "## Para correr en Google Colab\n",
    "\n",
    "Ejecutar este documento en forma dinámica:[![Open In Colab](https://colab.research.google.com/assets/colab-badge.svg)](https://github.com/rirastorza/heelSimulationDB/blob/main/examples/ejemplo_realistas2D.ipynb)"
   ]
  },
  {
   "cell_type": "code",
   "execution_count": 4,
   "metadata": {
    "colab": {
     "base_uri": "https://localhost:8080/",
     "height": 1000
    },
    "id": "cAKDY26UMmuq",
    "outputId": "fb6aa0c7-dcfb-42b3-9a8d-1dac529fa2a1"
   },
   "outputs": [
    {
     "name": "stdout",
     "output_type": "stream",
     "text": [
      "\u001b[33m\r",
      "0% [Working]\u001b[0m\r",
      "            \r",
      "Hit:1 http://archive.ubuntu.com/ubuntu jammy InRelease\n",
      "\u001b[33m\r",
      "0% [Connecting to security.ubuntu.com (91.189.91.81)] [Connected to cloud.r-project.org (65.9.86.12)\u001b[0m\r",
      "                                                                                                    \r",
      "Get:2 http://archive.ubuntu.com/ubuntu jammy-updates InRelease [128 kB]\n",
      "\r",
      "                                                                                                    \r",
      "Get:3 http://archive.ubuntu.com/ubuntu jammy-backports InRelease [127 kB]\n",
      "\u001b[33m\r",
      "0% [Waiting for headers] [Waiting for headers] [Connecting to r2u.stat.illinois.edu (192.17.190.167)\u001b[0m\r",
      "                                                                                                    \r",
      "Get:4 https://cloud.r-project.org/bin/linux/ubuntu jammy-cran40/ InRelease [3,626 B]\n",
      "\u001b[33m\r",
      "0% [Waiting for headers] [4 InRelease 3,626 B/3,626 B 100%] [Connected to r2u.stat.illinois.edu (192\u001b[0m\u001b[33m\r",
      "0% [Waiting for headers] [Connected to r2u.stat.illinois.edu (192.17.190.167)] [Waiting for headers]\u001b[0m\r",
      "                                                                                                    \r",
      "Get:5 http://security.ubuntu.com/ubuntu jammy-security InRelease [129 kB]\n",
      "\u001b[33m\r",
      "0% [5 InRelease 14.2 kB/129 kB 11%] [Connected to r2u.stat.illinois.edu (192.17.190.167)] [Waiting f\u001b[0m\r",
      "                                                                                                    \r",
      "Get:6 https://ppa.launchpadcontent.net/deadsnakes/ppa/ubuntu jammy InRelease [18.1 kB]\n",
      "\u001b[33m\r",
      "0% [5 InRelease 14.2 kB/129 kB 11%] [Connected to r2u.stat.illinois.edu (192.17.190.167)] [Waiting f\u001b[0m\u001b[33m\r",
      "0% [5 InRelease 14.2 kB/129 kB 11%] [Connected to r2u.stat.illinois.edu (192.17.190.167)] [Waiting f\u001b[0m\r",
      "                                                                                                    \r",
      "Get:7 https://developer.download.nvidia.com/compute/cuda/repos/ubuntu2204/x86_64  InRelease [1,581 B]\n",
      "\u001b[33m\r",
      "0% [5 InRelease 14.2 kB/129 kB 11%] [Connected to r2u.stat.illinois.edu (192.17.190.167)] [7 InRelea\u001b[0m\u001b[33m\r",
      "0% [5 InRelease 14.2 kB/129 kB 11%] [Connected to r2u.stat.illinois.edu (192.17.190.167)] [Waiting f\u001b[0m\r",
      "                                                                                                    \r",
      "Hit:8 https://ppa.launchpadcontent.net/graphics-drivers/ppa/ubuntu jammy InRelease\n",
      "Hit:9 https://ppa.launchpadcontent.net/ubuntugis/ppa/ubuntu jammy InRelease\n",
      "Get:10 https://r2u.stat.illinois.edu/ubuntu jammy InRelease [6,555 B]\n",
      "Get:11 http://archive.ubuntu.com/ubuntu jammy-updates/universe amd64 Packages [1,518 kB]\n",
      "Get:12 http://archive.ubuntu.com/ubuntu jammy-updates/main amd64 Packages [2,859 kB]\n",
      "Get:13 https://ppa.launchpadcontent.net/deadsnakes/ppa/ubuntu jammy/main amd64 Packages [32.9 kB]\n",
      "Get:14 https://developer.download.nvidia.com/compute/cuda/repos/ubuntu2204/x86_64  Packages [1,234 kB]\n",
      "Get:15 http://security.ubuntu.com/ubuntu jammy-security/universe amd64 Packages [1,228 kB]\n",
      "Get:16 https://r2u.stat.illinois.edu/ubuntu jammy/main all Packages [8,606 kB]\n",
      "Get:17 http://security.ubuntu.com/ubuntu jammy-security/main amd64 Packages [2,560 kB]\n",
      "Get:18 https://r2u.stat.illinois.edu/ubuntu jammy/main amd64 Packages [2,642 kB]\n",
      "Fetched 21.1 MB in 5s (4,194 kB/s)\n",
      "Reading package lists... Done\n",
      "Building dependency tree... Done\n",
      "Reading state information... Done\n",
      "55 packages can be upgraded. Run 'apt list --upgradable' to see them.\n",
      "\u001b[1;33mW: \u001b[0mSkipping acquire of configured file 'main/source/Sources' as repository 'https://r2u.stat.illinois.edu/ubuntu jammy InRelease' does not seem to provide it (sources.list entry misspelt?)\u001b[0m\n",
      "Reading package lists... Done\n",
      "Building dependency tree... Done\n",
      "Reading state information... Done\n",
      "The following additional packages will be installed:\n",
      "  guile-3.0-libs hdf5-tools libctl7 libfftw3-double3 libgdsii0 libgsl27 libgslcblas0 libharminv3\n",
      "  libhdf4-0 libmeep23 python3-numpy\n",
      "Suggested packages:\n",
      "  octave libfftw3-bin libfftw3-dev gsl-ref-psdoc | gsl-doc-pdf | gsl-doc-info | gsl-ref-html\n",
      "  libhdf4-doc libhdf4-dev hdf4-tools python-numpy-doc python3-pytest\n",
      "The following NEW packages will be installed:\n",
      "  guile-3.0-libs h5utils hdf5-tools libctl7 libfftw3-double3 libgdsii0 libgsl27 libgslcblas0\n",
      "  libharminv3 libhdf4-0 libmeep23 python3-meep python3-numpy\n",
      "0 upgraded, 13 newly installed, 0 to remove and 55 not upgraded.\n",
      "Need to get 15.3 MB of archives.\n",
      "After this operation, 86.5 MB of additional disk space will be used.\n",
      "Get:1 http://archive.ubuntu.com/ubuntu jammy/universe amd64 guile-3.0-libs amd64 3.0.7-1 [7,538 kB]\n",
      "Get:2 http://archive.ubuntu.com/ubuntu jammy/universe amd64 libhdf4-0 amd64 4.2.15-4 [334 kB]\n",
      "Get:3 http://archive.ubuntu.com/ubuntu jammy/universe amd64 h5utils amd64 1.13.1-4build1 [65.2 kB]\n",
      "Get:4 http://archive.ubuntu.com/ubuntu jammy/universe amd64 hdf5-tools amd64 1.10.7+repack-4ubuntu2 [347 kB]\n",
      "Get:5 http://archive.ubuntu.com/ubuntu jammy/universe amd64 libctl7 amd64 4.5.1-1 [122 kB]\n",
      "Get:6 http://archive.ubuntu.com/ubuntu jammy/main amd64 libfftw3-double3 amd64 3.3.8-2ubuntu8 [770 kB]\n",
      "Get:7 http://archive.ubuntu.com/ubuntu jammy/universe amd64 libgdsii0 amd64 0.2+ds.1-1build1 [30.3 kB]\n",
      "Get:8 http://archive.ubuntu.com/ubuntu jammy/universe amd64 libgslcblas0 amd64 2.7.1+dfsg-3 [94.4 kB]\n",
      "Get:9 http://archive.ubuntu.com/ubuntu jammy/universe amd64 libgsl27 amd64 2.7.1+dfsg-3 [1,000 kB]\n",
      "Get:10 http://archive.ubuntu.com/ubuntu jammy/universe amd64 libharminv3 amd64 1.4.1-3 [18.3 kB]\n",
      "Get:11 http://archive.ubuntu.com/ubuntu jammy/universe amd64 libmeep23 amd64 1.17.1-1build1 [575 kB]\n",
      "Get:12 http://archive.ubuntu.com/ubuntu jammy-updates/main amd64 python3-numpy amd64 1:1.21.5-1ubuntu22.04.1 [3,467 kB]\n",
      "Get:13 http://archive.ubuntu.com/ubuntu jammy/universe amd64 python3-meep amd64 1.17.1-1build1 [895 kB]\n",
      "Fetched 15.3 MB in 1s (25.4 MB/s)\n",
      "Selecting previously unselected package guile-3.0-libs:amd64.\n",
      "(Reading database ... 124565 files and directories currently installed.)\n",
      "Preparing to unpack .../00-guile-3.0-libs_3.0.7-1_amd64.deb ...\n",
      "Unpacking guile-3.0-libs:amd64 (3.0.7-1) ...\n",
      "Selecting previously unselected package libhdf4-0.\n",
      "Preparing to unpack .../01-libhdf4-0_4.2.15-4_amd64.deb ...\n",
      "Unpacking libhdf4-0 (4.2.15-4) ...\n",
      "Selecting previously unselected package h5utils.\n",
      "Preparing to unpack .../02-h5utils_1.13.1-4build1_amd64.deb ...\n",
      "Unpacking h5utils (1.13.1-4build1) ...\n",
      "Selecting previously unselected package hdf5-tools.\n",
      "Preparing to unpack .../03-hdf5-tools_1.10.7+repack-4ubuntu2_amd64.deb ...\n",
      "Unpacking hdf5-tools (1.10.7+repack-4ubuntu2) ...\n",
      "Selecting previously unselected package libctl7:amd64.\n",
      "Preparing to unpack .../04-libctl7_4.5.1-1_amd64.deb ...\n",
      "Unpacking libctl7:amd64 (4.5.1-1) ...\n",
      "Selecting previously unselected package libfftw3-double3:amd64.\n",
      "Preparing to unpack .../05-libfftw3-double3_3.3.8-2ubuntu8_amd64.deb ...\n",
      "Unpacking libfftw3-double3:amd64 (3.3.8-2ubuntu8) ...\n",
      "Selecting previously unselected package libgdsii0:amd64.\n",
      "Preparing to unpack .../06-libgdsii0_0.2+ds.1-1build1_amd64.deb ...\n",
      "Unpacking libgdsii0:amd64 (0.2+ds.1-1build1) ...\n",
      "Selecting previously unselected package libgslcblas0:amd64.\n",
      "Preparing to unpack .../07-libgslcblas0_2.7.1+dfsg-3_amd64.deb ...\n",
      "Unpacking libgslcblas0:amd64 (2.7.1+dfsg-3) ...\n",
      "Selecting previously unselected package libgsl27:amd64.\n",
      "Preparing to unpack .../08-libgsl27_2.7.1+dfsg-3_amd64.deb ...\n",
      "Unpacking libgsl27:amd64 (2.7.1+dfsg-3) ...\n",
      "Selecting previously unselected package libharminv3.\n",
      "Preparing to unpack .../09-libharminv3_1.4.1-3_amd64.deb ...\n",
      "Unpacking libharminv3 (1.4.1-3) ...\n",
      "Selecting previously unselected package libmeep23.\n",
      "Preparing to unpack .../10-libmeep23_1.17.1-1build1_amd64.deb ...\n",
      "Unpacking libmeep23 (1.17.1-1build1) ...\n",
      "Selecting previously unselected package python3-numpy.\n",
      "Preparing to unpack .../11-python3-numpy_1%3a1.21.5-1ubuntu22.04.1_amd64.deb ...\n",
      "Unpacking python3-numpy (1:1.21.5-1ubuntu22.04.1) ...\n",
      "Selecting previously unselected package python3-meep.\n",
      "Preparing to unpack .../12-python3-meep_1.17.1-1build1_amd64.deb ...\n",
      "Unpacking python3-meep (1.17.1-1build1) ...\n",
      "Setting up libgslcblas0:amd64 (2.7.1+dfsg-3) ...\n",
      "Setting up guile-3.0-libs:amd64 (3.0.7-1) ...\n",
      "Setting up libgsl27:amd64 (2.7.1+dfsg-3) ...\n",
      "Setting up libhdf4-0 (4.2.15-4) ...\n",
      "Setting up hdf5-tools (1.10.7+repack-4ubuntu2) ...\n",
      "Setting up libctl7:amd64 (4.5.1-1) ...\n",
      "Setting up python3-numpy (1:1.21.5-1ubuntu22.04.1) ...\n",
      "Setting up libfftw3-double3:amd64 (3.3.8-2ubuntu8) ...\n",
      "Setting up libharminv3 (1.4.1-3) ...\n",
      "Setting up h5utils (1.13.1-4build1) ...\n",
      "Setting up libgdsii0:amd64 (0.2+ds.1-1build1) ...\n",
      "Setting up libmeep23 (1.17.1-1build1) ...\n",
      "Setting up python3-meep (1.17.1-1build1) ...\n",
      "Processing triggers for man-db (2.10.2-1) ...\n",
      "Processing triggers for libc-bin (2.35-0ubuntu3.4) ...\n",
      "/sbin/ldconfig.real: /usr/local/lib/libur_adapter_opencl.so.0 is not a symbolic link\n",
      "\n",
      "/sbin/ldconfig.real: /usr/local/lib/libtcm.so.1 is not a symbolic link\n",
      "\n",
      "/sbin/ldconfig.real: /usr/local/lib/libtbb.so.12 is not a symbolic link\n",
      "\n",
      "/sbin/ldconfig.real: /usr/local/lib/libtbbbind_2_5.so.3 is not a symbolic link\n",
      "\n",
      "/sbin/ldconfig.real: /usr/local/lib/libumf.so.0 is not a symbolic link\n",
      "\n",
      "/sbin/ldconfig.real: /usr/local/lib/libur_adapter_level_zero.so.0 is not a symbolic link\n",
      "\n",
      "/sbin/ldconfig.real: /usr/local/lib/libur_loader.so.0 is not a symbolic link\n",
      "\n",
      "/sbin/ldconfig.real: /usr/local/lib/libtbbmalloc.so.2 is not a symbolic link\n",
      "\n",
      "/sbin/ldconfig.real: /usr/local/lib/libtbbmalloc_proxy.so.2 is not a symbolic link\n",
      "\n",
      "/sbin/ldconfig.real: /usr/local/lib/libtcm_debug.so.1 is not a symbolic link\n",
      "\n",
      "/sbin/ldconfig.real: /usr/local/lib/libtbbbind_2_0.so.3 is not a symbolic link\n",
      "\n",
      "/sbin/ldconfig.real: /usr/local/lib/libhwloc.so.15 is not a symbolic link\n",
      "\n",
      "/sbin/ldconfig.real: /usr/local/lib/libtbbbind.so.3 is not a symbolic link\n",
      "\n"
     ]
    },
    {
     "data": {
      "application/vnd.google.colaboratory.intrinsic+json": {
       "type": "string"
      },
      "text/plain": [
       "'1.17.1'"
      ]
     },
     "execution_count": 4,
     "metadata": {},
     "output_type": "execute_result"
    }
   ],
   "source": [
    "%%capture\n",
    "%%capture  \n",
    "try:\n",
    "    import dolfin\n",
    "except ImportError:\n",
    "    !wget \"https://fem-on-colab.github.io/releases/fenics-install-real.sh\" -O \"/tmp/fenics-install.sh\" && bash \"/tmp/fenics-install.sh\"\n",
    "    import dolfin"
   ]
  },
  {
   "cell_type": "code",
   "execution_count": 5,
   "metadata": {
    "id": "AYpFGURAmLL4"
   },
   "outputs": [],
   "source": [
    "%%capture\n",
    "!wget https://raw.githubusercontent.com/rirastorza/heelSimulationDB/blob/main/meshes/pacient10_munieca_slice1.geo"
   ]
  },
  {
   "cell_type": "markdown",
   "metadata": {
    "id": "7rex-R6wmLL5"
   },
   "source": [
    "\n",
    "## Ejemplo de uso: simulación con FDTD\n",
    "\n",
    "### 1. Grafico de un corte de muñeca\n",
    "\n"
   ]
  },
  {
   "cell_type": "code",
   "execution_count": null,
   "metadata": {
    "id": "VU0KWxW5mLL-"
   },
   "outputs": [],
   "source": []
  }
 ],
 "metadata": {
  "colab": {
   "provenance": []
  },
  "kernelspec": {
   "display_name": "Python 3 (ipykernel)",
   "language": "python",
   "name": "python3"
  },
  "language_info": {
   "codemirror_mode": {
    "name": "ipython",
    "version": 3
   },
   "file_extension": ".py",
   "mimetype": "text/x-python",
   "name": "python",
   "nbconvert_exporter": "python",
   "pygments_lexer": "ipython3",
   "version": "3.12.3"
  },
  "widgets": {
   "application/vnd.jupyter.widget-state+json": {
    "780c0b49b3c146b9ae81857f516866a6": {
     "model_module": "@jupyter-widgets/controls",
     "model_module_version": "1.5.0",
     "model_name": "FloatProgressModel",
     "state": {
      "_dom_classes": [],
      "_model_module": "@jupyter-widgets/controls",
      "_model_module_version": "1.5.0",
      "_model_name": "FloatProgressModel",
      "_view_count": null,
      "_view_module": "@jupyter-widgets/controls",
      "_view_module_version": "1.5.0",
      "_view_name": "ProgressView",
      "bar_style": "",
      "description": "100% done ",
      "description_tooltip": null,
      "layout": "IPY_MODEL_7f4322fee9384c4492c83c86d5268925",
      "max": 3000,
      "min": 0,
      "orientation": "horizontal",
      "style": "IPY_MODEL_d9271c135321487caae0288c9bbbd21a",
      "value": 3000
     }
    },
    "7f4322fee9384c4492c83c86d5268925": {
     "model_module": "@jupyter-widgets/base",
     "model_module_version": "1.2.0",
     "model_name": "LayoutModel",
     "state": {
      "_model_module": "@jupyter-widgets/base",
      "_model_module_version": "1.2.0",
      "_model_name": "LayoutModel",
      "_view_count": null,
      "_view_module": "@jupyter-widgets/base",
      "_view_module_version": "1.2.0",
      "_view_name": "LayoutView",
      "align_content": null,
      "align_items": null,
      "align_self": null,
      "border": null,
      "bottom": null,
      "display": null,
      "flex": null,
      "flex_flow": null,
      "grid_area": null,
      "grid_auto_columns": null,
      "grid_auto_flow": null,
      "grid_auto_rows": null,
      "grid_column": null,
      "grid_gap": null,
      "grid_row": null,
      "grid_template_areas": null,
      "grid_template_columns": null,
      "grid_template_rows": null,
      "height": null,
      "justify_content": null,
      "justify_items": null,
      "left": null,
      "margin": null,
      "max_height": null,
      "max_width": null,
      "min_height": null,
      "min_width": null,
      "object_fit": null,
      "object_position": null,
      "order": null,
      "overflow": null,
      "overflow_x": null,
      "overflow_y": null,
      "padding": null,
      "right": null,
      "top": null,
      "visibility": null,
      "width": null
     }
    },
    "d9271c135321487caae0288c9bbbd21a": {
     "model_module": "@jupyter-widgets/controls",
     "model_module_version": "1.5.0",
     "model_name": "ProgressStyleModel",
     "state": {
      "_model_module": "@jupyter-widgets/controls",
      "_model_module_version": "1.5.0",
      "_model_name": "ProgressStyleModel",
      "_view_count": null,
      "_view_module": "@jupyter-widgets/base",
      "_view_module_version": "1.2.0",
      "_view_name": "StyleView",
      "bar_color": null,
      "description_width": ""
     }
    }
   }
  }
 },
 "nbformat": 4,
 "nbformat_minor": 1
}
