{
  "cells": [
    {
      "cell_type": "markdown",
      "metadata": {
        "id": "r478pucemLL0"
      },
      "source": [
        "# Ejemplo de modelos realistas\n",
        "\n",
        "\n",
        "Los valores revisados en la bibliografía y los ejemplos simulados se muestran en detalle en nuestro trabajo:\n",
        "\n",
        "https://doi.org/10.1088/2057-1976/ab3330\n",
        "\n",
        "Son cortes de muñeca y de tobillo. Pueden tener cuatro tipos de tejidos, cuyas propiedades dieléctricas en $f=1300$ MHz son:\n",
        "\n",
        "- *Skin wet*, variable entre $\\varepsilon_r = [28.0, 46.8]$ y $\\sigma = [1.00, 1.08]$ S/m y un espesor variable entre $[1.46, 2.88]$ mm.\n",
        "- *Muscle* variable entre $\\varepsilon_r = [29.0, 70.0]$ y  $\\sigma = [0.90, 1.55]$ S/m.\n",
        "- *Cortical bone* fijo $\\varepsilon_r =12.1$ y  $\\sigma =  0.20$ S/m, espesor variable entre $[0.50, 3.00]$ mm\n",
        "- *Trabecular bone* variable entre $\\varepsilon_r = [12.5, 20.1]$ y  $\\sigma =  [0.44, 0.92]$ S/m.\n",
        "\n",
        "El medio de acoplamiento puede ser agua destilada y sal, es la solución estudiada en este trabajo (https://doi.org/10.1118/1.4788640), en particular es la solución *salt 17.5* cuyas propiedades dieléctricas relativas son: $ɛ^{*}_r≈ 76.95-26.97j$.\n",
        "\n",
        "Los ejemplos de cortes de tobillo y muñeca están almacenados en el siguiente enlace público: https://github.com/rirastorza/heelSimulationDB\n",
        "\n",
        "Todos los archivos .geo son del tipo CAD que se utilizan con Gmsh (https://gmsh.info/ un software de modelado CAD para cálculo de elementos finitos)."
      ]
    },
    {
      "cell_type": "markdown",
      "metadata": {
        "id": "Hk_AAqXpmLL3"
      },
      "source": [
        "## Para correr en Google Colab\n",
        "\n",
        "Ejecutar este documento en forma dinámica:[![Open In Colab](https://colab.research.google.com/assets/colab-badge.svg)](https://colab.research.google.com/github/rirastorza/heelSimulationDB/blob/main/examples/ejemplo_realistas2D.ipynb)"
      ]
    },
    {
      "cell_type": "code",
      "execution_count": 10,
      "metadata": {
        "id": "cAKDY26UMmuq"
      },
      "outputs": [],
      "source": [
        "%%capture\n",
        "try:\n",
        "    import dolfin\n",
        "except ImportError:\n",
        "    !wget \"https://fem-on-colab.github.io/releases/fenics-install-real.sh\" -O \"/tmp/fenics-install.sh\" && bash \"/tmp/fenics-install.sh\"\n",
        "    import dolfin"
      ]
    },
    {
      "cell_type": "code",
      "source": [
        "%%capture\n",
        "try:\n",
        "    import gmsh\n",
        "except ImportError:\n",
        "    !wget \"https://fem-on-colab.github.io/releases/gmsh-install.sh\" -O \"/tmp/gmsh-install.sh\" && bash \"/tmp/gmsh-install.sh\"\n",
        "    import gmsh"
      ],
      "metadata": {
        "id": "3uTlJR5fwjAl"
      },
      "execution_count": 12,
      "outputs": []
    },
    {
      "cell_type": "markdown",
      "metadata": {
        "id": "7rex-R6wmLL5"
      },
      "source": [
        "\n",
        "## Ejemplo de uso: simulación con FDTD\n",
        "\n",
        "### 1. Grafico de un corte de muñeca\n",
        "\n"
      ]
    },
    {
      "cell_type": "code",
      "execution_count": 11,
      "metadata": {
        "id": "AYpFGURAmLL4",
        "outputId": "cddb025e-d429-454d-e4a4-73b254f1a972",
        "colab": {
          "base_uri": "https://localhost:8080/"
        }
      },
      "outputs": [
        {
          "output_type": "stream",
          "name": "stdout",
          "text": [
            "--2025-02-04 21:08:15--  https://raw.githubusercontent.com/rirastorza/heelSimulationDB/refs/heads/main/meshes/pacient10_munieca_slice1.geo\n",
            "Resolving raw.githubusercontent.com (raw.githubusercontent.com)... 185.199.108.133, 185.199.109.133, 185.199.110.133, ...\n",
            "Connecting to raw.githubusercontent.com (raw.githubusercontent.com)|185.199.108.133|:443... connected.\n",
            "HTTP request sent, awaiting response... 200 OK\n",
            "Length: 21635 (21K) [text/plain]\n",
            "Saving to: ‘pacient10_munieca_slice1.geo.1’\n",
            "\n",
            "\r          pacient10   0%[                    ]       0  --.-KB/s               \rpacient10_munieca_s 100%[===================>]  21.13K  --.-KB/s    in 0.001s  \n",
            "\n",
            "2025-02-04 21:08:15 (14.1 MB/s) - ‘pacient10_munieca_slice1.geo.1’ saved [21635/21635]\n",
            "\n"
          ]
        }
      ],
      "source": [
        "!wget https://raw.githubusercontent.com/rirastorza/heelSimulationDB/refs/heads/main/meshes/pacient10_munieca_slice1.geo"
      ]
    },
    {
      "cell_type": "code",
      "execution_count": 13,
      "metadata": {
        "id": "VU0KWxW5mLL-",
        "outputId": "69c51c65-c032-4ccc-a449-f448fb72d495",
        "colab": {
          "base_uri": "https://localhost:8080/",
          "height": 449
        }
      },
      "outputs": [
        {
          "output_type": "display_data",
          "data": {
            "text/plain": [
              "<Figure size 640x480 with 1 Axes>"
            ],
            "image/png": "[encoded data removed]"
          },
          "metadata": {}
        }
      ],
      "source": [
        "import os\n",
        "import numpy as np\n",
        "from scipy.constants import epsilon_0, pi\n",
        "\n",
        "filename = 'pacient10_munieca_slice1'\n",
        "\n",
        "string = \"gmsh -2 \"+filename+\".geo -format msh2\"\n",
        "os.system(string)\n",
        "\n",
        "string = \"dolfin-convert \"+filename+\".msh \"+filename+\".xml\"\n",
        "os.system(string)\n",
        "\n",
        "from fenics import *\n",
        "\n",
        "# Create mesh, subdomains, and boundaries\n",
        "mesh = Mesh(filename+\".xml\");\n",
        "subdomains = MeshFunction('size_t',mesh,filename+\"_physical_region.xml\");\n",
        "boundaries = MeshFunction('size_t',mesh,filename+\"_facet_region.xml\");\n",
        "\n",
        "import matplotlib.pyplot as plt\n",
        "\n",
        "plt.figure(1)\n",
        "\n",
        "plot(subdomains)\n",
        "##Uncomment to show the mesh\n",
        "#plot(mesh)\n",
        "\n",
        "\n",
        "\n",
        "#Position of the antennas\n",
        "xposant = np.array([])\n",
        "yposant = np.array([])\n",
        "for n in range(0,16):\n",
        "    xrint = (15.0e-2/2)*np.cos(n*2*pi/16)\n",
        "    yrint = (15.0e-2/2)*np.sin(n*2*pi/16)\n",
        "    xposant = np.append(xposant,xrint)\n",
        "    yposant = np.append(yposant,yrint)\n",
        "\n",
        "plt.plot(xposant,yposant,'ko',markeredgecolor ='k', markerfacecolor='w')\n",
        "\n",
        "plt.ylabel(r'y (m)')\n",
        "plt.xlabel(r'x (m)')\n",
        "\n",
        "plt.show()"
      ]
    },
    {
      "cell_type": "markdown",
      "source": [
        "### 2. Grafico de un corte de calcáneo\n",
        "\n",
        "La diferencia con el de muñeca es que el de calcáneo no tiene borde de hueso cortical, hay solo dos medios: músculo y hueso trabecular."
      ],
      "metadata": {
        "id": "4i1pSxyU1fdE"
      }
    },
    {
      "cell_type": "code",
      "source": [
        "!wget https://raw.githubusercontent.com/rirastorza/heelSimulationDB/refs/heads/main/meshes/patient5_slice1.geo"
      ],
      "metadata": {
        "colab": {
          "base_uri": "https://localhost:8080/"
        },
        "id": "MiO83dOR1y5j",
        "outputId": "91a9ea0f-2780-43c1-9452-f2a5b13b8266"
      },
      "execution_count": 14,
      "outputs": [
        {
          "output_type": "stream",
          "name": "stdout",
          "text": [
            "--2025-02-04 21:23:46--  https://raw.githubusercontent.com/rirastorza/heelSimulationDB/refs/heads/main/meshes/patient5_slice1.geo\n",
            "Resolving raw.githubusercontent.com (raw.githubusercontent.com)... 185.199.108.133, 185.199.109.133, 185.199.110.133, ...\n",
            "Connecting to raw.githubusercontent.com (raw.githubusercontent.com)|185.199.108.133|:443... connected.\n",
            "HTTP request sent, awaiting response... 200 OK\n",
            "Length: 9368 (9.1K) [text/plain]\n",
            "Saving to: ‘patient5_slice1.geo’\n",
            "\n",
            "patient5_slice1.geo 100%[===================>]   9.15K  --.-KB/s    in 0s      \n",
            "\n",
            "2025-02-04 21:23:46 (49.2 MB/s) - ‘patient5_slice1.geo’ saved [9368/9368]\n",
            "\n"
          ]
        }
      ]
    },
    {
      "cell_type": "code",
      "source": [
        "filename = 'patient5_slice1'\n",
        "\n",
        "string = \"gmsh -2 \"+filename+\".geo -format msh2\"\n",
        "os.system(string)\n",
        "\n",
        "string = \"dolfin-convert \"+filename+\".msh \"+filename+\".xml\"\n",
        "os.system(string)\n",
        "\n",
        "# Create mesh, subdomains, and boundaries\n",
        "mesh = Mesh(filename+\".xml\");\n",
        "subdomains = MeshFunction('size_t',mesh,filename+\"_physical_region.xml\");\n",
        "boundaries = MeshFunction('size_t',mesh,filename+\"_facet_region.xml\");\n",
        "\n",
        "fig2 = plt.figure(2)\n",
        "\n",
        "plot(subdomains)\n",
        "##Uncomment to show the mesh\n",
        "#plot(mesh)\n",
        "\n",
        "\n",
        "\n",
        "#Position of the antennas\n",
        "xposant = np.array([])\n",
        "yposant = np.array([])\n",
        "for n in range(0,16):\n",
        "    xrint = (15.0e-2/2)*np.cos(n*2*pi/16)\n",
        "    yrint = (15.0e-2/2)*np.sin(n*2*pi/16)\n",
        "    xposant = np.append(xposant,xrint)\n",
        "    yposant = np.append(yposant,yrint)\n",
        "\n",
        "#plt.plot(xposant,yposant,'ko',markeredgecolor ='k', markerfacecolor='w')\n",
        "plt.axis('off')\n",
        "#plt.ylabel(r'y (m)')\n",
        "#plt.xlabel(r'x (m)')\n",
        "\n",
        "plt.show()"
      ],
      "metadata": {
        "colab": {
          "base_uri": "https://localhost:8080/",
          "height": 406
        },
        "id": "gQvIpAJ41pZb",
        "outputId": "0c36b80c-f8cd-4691-dfb6-e5ba578f03a1"
      },
      "execution_count": 19,
      "outputs": [
        {
          "output_type": "display_data",
          "data": {
            "text/plain": [
              "<Figure size 640x480 with 1 Axes>"
            ],
            "image/png": "[encoded data removed]"
          },
          "metadata": {}
        }
      ]
    },
    {
      "cell_type": "markdown",
      "source": [
        "Puedo guardar la imagen en png para luego construir la matriz de permitividad compleja."
      ],
      "metadata": {
        "id": "CQRLOUftJuPM"
      }
    },
    {
      "cell_type": "code",
      "source": [
        "# Save the plot as a PNG file without axes\n",
        "fig2.savefig('calcaneo.png', dpi=80,bbox_inches='tight', pad_inches=0)\n"
      ],
      "metadata": {
        "id": "YmitTILgHB26"
      },
      "execution_count": 21,
      "outputs": []
    },
    {
      "cell_type": "code",
      "source": [],
      "metadata": {
        "id": "m2q24-oMIIMw"
      },
      "execution_count": null,
      "outputs": []
    }
  ],
  "metadata": {
    "colab": {
      "provenance": []
    },
    "kernelspec": {
      "display_name": "Python 3 (ipykernel)",
      "language": "python",
      "name": "python3"
    },
    "language_info": {
      "codemirror_mode": {
        "name": "ipython",
        "version": 3
      },
      "file_extension": ".py",
      "mimetype": "text/x-python",
      "name": "python",
      "nbconvert_exporter": "python",
      "pygments_lexer": "ipython3",
      "version": "3.12.3"
    }
  },
  "nbformat": 4,
  "nbformat_minor": 0
}