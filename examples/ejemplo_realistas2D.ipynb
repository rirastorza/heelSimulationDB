{
 "cells": [
  {
   "cell_type": "markdown",
   "metadata": {
    "id": "r478pucemLL0"
   },
   "source": [
    "# Ejemplo de modelos realistas\n",
    "\n",
    "\n",
    "Los valores revisados en la bibliografía y los ejemplos simulados se muestran en detalle en nuestro trabajo:\n",
    "\n",
    "https://doi.org/10.1088/2057-1976/ab3330\n",
    "\n",
    "Son cortes de muñeca y de tobillo. Pueden tener cuatro tipos de tejidos, cuyas propiedades dieléctricas en $f=1300$ MHz son: \n",
    "\n",
    "- *Skin wet*, variable entre $\\varepsilon_r = [28.0, 46.8]$ y $\\sigma = [1.00, 1.08]$ S/m y un espesor variable entre $[1.46, 2.88]$ mm.\n",
    "- *Muscle* variable entre $\\varepsilon_r = [29.0, 70.0]$ y  $\\sigma = [0.90, 1.55]$ S/m. \n",
    "- *Cortical bone* fijo $\\varepsilon_r =12.1$ y  $\\sigma =  0.20$ S/m, espesor variable entre $[0.50, 3.00]$ mm\n",
    "- *Trabecular bone* variable entre $\\varepsilon_r = [12.5, 20.1]$ y  $\\sigma =  [0.44, 0.92]$ S/m. \n",
    "\n",
    "El medio de acoplamiento puede ser agua destilada y sal, es la solución estudiada en este trabajo (https://doi.org/10.1118/1.4788640), en particular es la solución *salt 17.5* cuyas propiedades dieléctricas relativas son: $ɛ^{*}_r≈ 76.95-26.97j$.\n"
   ]
  },
  {
   "cell_type": "markdown",
   "metadata": {
    "id": "Hk_AAqXpmLL3"
   },
   "source": [
    "## Para correr en Google Colab\n",
    "\n",
    "Ejecutar este documento en forma dinámica:[![Open In Colab](https://colab.research.google.com/assets/colab-badge.svg)](https://colab.research.google.com/github/rirastorza/Intro2MI/blob/master/problema_directo/ejemplo_contrastes.ipynb)"
   ]
  },
  {
   "cell_type": "code",
   "execution_count": 4,
   "metadata": {
    "colab": {
     "base_uri": "https://localhost:8080/",
     "height": 1000
    },
    "id": "cAKDY26UMmuq",
    "outputId": "fb6aa0c7-dcfb-42b3-9a8d-1dac529fa2a1"
   },
   "outputs": [
    {
     "name": "stdout",
     "output_type": "stream",
     "text": [
      "\u001b[33m\r",
      "0% [Working]\u001b[0m\r",
      "            \r",
      "Hit:1 http://archive.ubuntu.com/ubuntu jammy InRelease\n",
      "\u001b[33m\r",
      "0% [Connecting to security.ubuntu.com (91.189.91.81)] [Connected to cloud.r-project.org (65.9.86.12)\u001b[0m\r",
      "                                                                                                    \r",
      "Get:2 http://archive.ubuntu.com/ubuntu jammy-updates InRelease [128 kB]\n",
      "\r",
      "                                                                                                    \r",
      "Get:3 http://archive.ubuntu.com/ubuntu jammy-backports InRelease [127 kB]\n",
      "\u001b[33m\r",
      "0% [Waiting for headers] [Waiting for headers] [Connecting to r2u.stat.illinois.edu (192.17.190.167)\u001b[0m\r",
      "                                                                                                    \r",
      "Get:4 https://cloud.r-project.org/bin/linux/ubuntu jammy-cran40/ InRelease [3,626 B]\n",
      "\u001b[33m\r",
      "0% [Waiting for headers] [4 InRelease 3,626 B/3,626 B 100%] [Connected to r2u.stat.illinois.edu (192\u001b[0m\u001b[33m\r",
      "0% [Waiting for headers] [Connected to r2u.stat.illinois.edu (192.17.190.167)] [Waiting for headers]\u001b[0m\r",
      "                                                                                                    \r",
      "Get:5 http://security.ubuntu.com/ubuntu jammy-security InRelease [129 kB]\n",
      "\u001b[33m\r",
      "0% [5 InRelease 14.2 kB/129 kB 11%] [Connected to r2u.stat.illinois.edu (192.17.190.167)] [Waiting f\u001b[0m\r",
      "                                                                                                    \r",
      "Get:6 https://ppa.launchpadcontent.net/deadsnakes/ppa/ubuntu jammy InRelease [18.1 kB]\n",
      "\u001b[33m\r",
      "0% [5 InRelease 14.2 kB/129 kB 11%] [Connected to r2u.stat.illinois.edu (192.17.190.167)] [Waiting f\u001b[0m\u001b[33m\r",
      "0% [5 InRelease 14.2 kB/129 kB 11%] [Connected to r2u.stat.illinois.edu (192.17.190.167)] [Waiting f\u001b[0m\r",
      "                                                                                                    \r",
      "Get:7 https://developer.download.nvidia.com/compute/cuda/repos/ubuntu2204/x86_64  InRelease [1,581 B]\n",
      "\u001b[33m\r",
      "0% [5 InRelease 14.2 kB/129 kB 11%] [Connected to r2u.stat.illinois.edu (192.17.190.167)] [7 InRelea\u001b[0m\u001b[33m\r",
      "0% [5 InRelease 14.2 kB/129 kB 11%] [Connected to r2u.stat.illinois.edu (192.17.190.167)] [Waiting f\u001b[0m\r",
      "                                                                                                    \r",
      "Hit:8 https://ppa.launchpadcontent.net/graphics-drivers/ppa/ubuntu jammy InRelease\n",
      "Hit:9 https://ppa.launchpadcontent.net/ubuntugis/ppa/ubuntu jammy InRelease\n",
      "Get:10 https://r2u.stat.illinois.edu/ubuntu jammy InRelease [6,555 B]\n",
      "Get:11 http://archive.ubuntu.com/ubuntu jammy-updates/universe amd64 Packages [1,518 kB]\n",
      "Get:12 http://archive.ubuntu.com/ubuntu jammy-updates/main amd64 Packages [2,859 kB]\n",
      "Get:13 https://ppa.launchpadcontent.net/deadsnakes/ppa/ubuntu jammy/main amd64 Packages [32.9 kB]\n",
      "Get:14 https://developer.download.nvidia.com/compute/cuda/repos/ubuntu2204/x86_64  Packages [1,234 kB]\n",
      "Get:15 http://security.ubuntu.com/ubuntu jammy-security/universe amd64 Packages [1,228 kB]\n",
      "Get:16 https://r2u.stat.illinois.edu/ubuntu jammy/main all Packages [8,606 kB]\n",
      "Get:17 http://security.ubuntu.com/ubuntu jammy-security/main amd64 Packages [2,560 kB]\n",
      "Get:18 https://r2u.stat.illinois.edu/ubuntu jammy/main amd64 Packages [2,642 kB]\n",
      "Fetched 21.1 MB in 5s (4,194 kB/s)\n",
      "Reading package lists... Done\n",
      "Building dependency tree... Done\n",
      "Reading state information... Done\n",
      "55 packages can be upgraded. Run 'apt list --upgradable' to see them.\n",
      "\u001b[1;33mW: \u001b[0mSkipping acquire of configured file 'main/source/Sources' as repository 'https://r2u.stat.illinois.edu/ubuntu jammy InRelease' does not seem to provide it (sources.list entry misspelt?)\u001b[0m\n",
      "Reading package lists... Done\n",
      "Building dependency tree... Done\n",
      "Reading state information... Done\n",
      "The following additional packages will be installed:\n",
      "  guile-3.0-libs hdf5-tools libctl7 libfftw3-double3 libgdsii0 libgsl27 libgslcblas0 libharminv3\n",
      "  libhdf4-0 libmeep23 python3-numpy\n",
      "Suggested packages:\n",
      "  octave libfftw3-bin libfftw3-dev gsl-ref-psdoc | gsl-doc-pdf | gsl-doc-info | gsl-ref-html\n",
      "  libhdf4-doc libhdf4-dev hdf4-tools python-numpy-doc python3-pytest\n",
      "The following NEW packages will be installed:\n",
      "  guile-3.0-libs h5utils hdf5-tools libctl7 libfftw3-double3 libgdsii0 libgsl27 libgslcblas0\n",
      "  libharminv3 libhdf4-0 libmeep23 python3-meep python3-numpy\n",
      "0 upgraded, 13 newly installed, 0 to remove and 55 not upgraded.\n",
      "Need to get 15.3 MB of archives.\n",
      "After this operation, 86.5 MB of additional disk space will be used.\n",
      "Get:1 http://archive.ubuntu.com/ubuntu jammy/universe amd64 guile-3.0-libs amd64 3.0.7-1 [7,538 kB]\n",
      "Get:2 http://archive.ubuntu.com/ubuntu jammy/universe amd64 libhdf4-0 amd64 4.2.15-4 [334 kB]\n",
      "Get:3 http://archive.ubuntu.com/ubuntu jammy/universe amd64 h5utils amd64 1.13.1-4build1 [65.2 kB]\n",
      "Get:4 http://archive.ubuntu.com/ubuntu jammy/universe amd64 hdf5-tools amd64 1.10.7+repack-4ubuntu2 [347 kB]\n",
      "Get:5 http://archive.ubuntu.com/ubuntu jammy/universe amd64 libctl7 amd64 4.5.1-1 [122 kB]\n",
      "Get:6 http://archive.ubuntu.com/ubuntu jammy/main amd64 libfftw3-double3 amd64 3.3.8-2ubuntu8 [770 kB]\n",
      "Get:7 http://archive.ubuntu.com/ubuntu jammy/universe amd64 libgdsii0 amd64 0.2+ds.1-1build1 [30.3 kB]\n",
      "Get:8 http://archive.ubuntu.com/ubuntu jammy/universe amd64 libgslcblas0 amd64 2.7.1+dfsg-3 [94.4 kB]\n",
      "Get:9 http://archive.ubuntu.com/ubuntu jammy/universe amd64 libgsl27 amd64 2.7.1+dfsg-3 [1,000 kB]\n",
      "Get:10 http://archive.ubuntu.com/ubuntu jammy/universe amd64 libharminv3 amd64 1.4.1-3 [18.3 kB]\n",
      "Get:11 http://archive.ubuntu.com/ubuntu jammy/universe amd64 libmeep23 amd64 1.17.1-1build1 [575 kB]\n",
      "Get:12 http://archive.ubuntu.com/ubuntu jammy-updates/main amd64 python3-numpy amd64 1:1.21.5-1ubuntu22.04.1 [3,467 kB]\n",
      "Get:13 http://archive.ubuntu.com/ubuntu jammy/universe amd64 python3-meep amd64 1.17.1-1build1 [895 kB]\n",
      "Fetched 15.3 MB in 1s (25.4 MB/s)\n",
      "Selecting previously unselected package guile-3.0-libs:amd64.\n",
      "(Reading database ... 124565 files and directories currently installed.)\n",
      "Preparing to unpack .../00-guile-3.0-libs_3.0.7-1_amd64.deb ...\n",
      "Unpacking guile-3.0-libs:amd64 (3.0.7-1) ...\n",
      "Selecting previously unselected package libhdf4-0.\n",
      "Preparing to unpack .../01-libhdf4-0_4.2.15-4_amd64.deb ...\n",
      "Unpacking libhdf4-0 (4.2.15-4) ...\n",
      "Selecting previously unselected package h5utils.\n",
      "Preparing to unpack .../02-h5utils_1.13.1-4build1_amd64.deb ...\n",
      "Unpacking h5utils (1.13.1-4build1) ...\n",
      "Selecting previously unselected package hdf5-tools.\n",
      "Preparing to unpack .../03-hdf5-tools_1.10.7+repack-4ubuntu2_amd64.deb ...\n",
      "Unpacking hdf5-tools (1.10.7+repack-4ubuntu2) ...\n",
      "Selecting previously unselected package libctl7:amd64.\n",
      "Preparing to unpack .../04-libctl7_4.5.1-1_amd64.deb ...\n",
      "Unpacking libctl7:amd64 (4.5.1-1) ...\n",
      "Selecting previously unselected package libfftw3-double3:amd64.\n",
      "Preparing to unpack .../05-libfftw3-double3_3.3.8-2ubuntu8_amd64.deb ...\n",
      "Unpacking libfftw3-double3:amd64 (3.3.8-2ubuntu8) ...\n",
      "Selecting previously unselected package libgdsii0:amd64.\n",
      "Preparing to unpack .../06-libgdsii0_0.2+ds.1-1build1_amd64.deb ...\n",
      "Unpacking libgdsii0:amd64 (0.2+ds.1-1build1) ...\n",
      "Selecting previously unselected package libgslcblas0:amd64.\n",
      "Preparing to unpack .../07-libgslcblas0_2.7.1+dfsg-3_amd64.deb ...\n",
      "Unpacking libgslcblas0:amd64 (2.7.1+dfsg-3) ...\n",
      "Selecting previously unselected package libgsl27:amd64.\n",
      "Preparing to unpack .../08-libgsl27_2.7.1+dfsg-3_amd64.deb ...\n",
      "Unpacking libgsl27:amd64 (2.7.1+dfsg-3) ...\n",
      "Selecting previously unselected package libharminv3.\n",
      "Preparing to unpack .../09-libharminv3_1.4.1-3_amd64.deb ...\n",
      "Unpacking libharminv3 (1.4.1-3) ...\n",
      "Selecting previously unselected package libmeep23.\n",
      "Preparing to unpack .../10-libmeep23_1.17.1-1build1_amd64.deb ...\n",
      "Unpacking libmeep23 (1.17.1-1build1) ...\n",
      "Selecting previously unselected package python3-numpy.\n",
      "Preparing to unpack .../11-python3-numpy_1%3a1.21.5-1ubuntu22.04.1_amd64.deb ...\n",
      "Unpacking python3-numpy (1:1.21.5-1ubuntu22.04.1) ...\n",
      "Selecting previously unselected package python3-meep.\n",
      "Preparing to unpack .../12-python3-meep_1.17.1-1build1_amd64.deb ...\n",
      "Unpacking python3-meep (1.17.1-1build1) ...\n",
      "Setting up libgslcblas0:amd64 (2.7.1+dfsg-3) ...\n",
      "Setting up guile-3.0-libs:amd64 (3.0.7-1) ...\n",
      "Setting up libgsl27:amd64 (2.7.1+dfsg-3) ...\n",
      "Setting up libhdf4-0 (4.2.15-4) ...\n",
      "Setting up hdf5-tools (1.10.7+repack-4ubuntu2) ...\n",
      "Setting up libctl7:amd64 (4.5.1-1) ...\n",
      "Setting up python3-numpy (1:1.21.5-1ubuntu22.04.1) ...\n",
      "Setting up libfftw3-double3:amd64 (3.3.8-2ubuntu8) ...\n",
      "Setting up libharminv3 (1.4.1-3) ...\n",
      "Setting up h5utils (1.13.1-4build1) ...\n",
      "Setting up libgdsii0:amd64 (0.2+ds.1-1build1) ...\n",
      "Setting up libmeep23 (1.17.1-1build1) ...\n",
      "Setting up python3-meep (1.17.1-1build1) ...\n",
      "Processing triggers for man-db (2.10.2-1) ...\n",
      "Processing triggers for libc-bin (2.35-0ubuntu3.4) ...\n",
      "/sbin/ldconfig.real: /usr/local/lib/libur_adapter_opencl.so.0 is not a symbolic link\n",
      "\n",
      "/sbin/ldconfig.real: /usr/local/lib/libtcm.so.1 is not a symbolic link\n",
      "\n",
      "/sbin/ldconfig.real: /usr/local/lib/libtbb.so.12 is not a symbolic link\n",
      "\n",
      "/sbin/ldconfig.real: /usr/local/lib/libtbbbind_2_5.so.3 is not a symbolic link\n",
      "\n",
      "/sbin/ldconfig.real: /usr/local/lib/libumf.so.0 is not a symbolic link\n",
      "\n",
      "/sbin/ldconfig.real: /usr/local/lib/libur_adapter_level_zero.so.0 is not a symbolic link\n",
      "\n",
      "/sbin/ldconfig.real: /usr/local/lib/libur_loader.so.0 is not a symbolic link\n",
      "\n",
      "/sbin/ldconfig.real: /usr/local/lib/libtbbmalloc.so.2 is not a symbolic link\n",
      "\n",
      "/sbin/ldconfig.real: /usr/local/lib/libtbbmalloc_proxy.so.2 is not a symbolic link\n",
      "\n",
      "/sbin/ldconfig.real: /usr/local/lib/libtcm_debug.so.1 is not a symbolic link\n",
      "\n",
      "/sbin/ldconfig.real: /usr/local/lib/libtbbbind_2_0.so.3 is not a symbolic link\n",
      "\n",
      "/sbin/ldconfig.real: /usr/local/lib/libhwloc.so.15 is not a symbolic link\n",
      "\n",
      "/sbin/ldconfig.real: /usr/local/lib/libtbbbind.so.3 is not a symbolic link\n",
      "\n"
     ]
    },
    {
     "data": {
      "application/vnd.google.colaboratory.intrinsic+json": {
       "type": "string"
      },
      "text/plain": [
       "'1.17.1'"
      ]
     },
     "execution_count": 4,
     "metadata": {},
     "output_type": "execute_result"
    }
   ],
   "source": [
    "%%capture\n",
    "!apt update\n",
    "!apt-get install python3-meep h5utils\n",
    "import meep as mp\n",
    "mp.__version__"
   ]
  },
  {
   "cell_type": "code",
   "execution_count": 5,
   "metadata": {
    "id": "AYpFGURAmLL4"
   },
   "outputs": [],
   "source": [
    "%%capture\n",
    "!wget https://raw.githubusercontent.com/rirastorza/Intro2MI/refs/heads/main/problema_directo/forward.py"
   ]
  },
  {
   "cell_type": "markdown",
   "metadata": {
    "id": "7rex-R6wmLL5"
   },
   "source": [
    "\n",
    "## Ejemplo de uso: simulación con FDTD\n",
    "\n",
    "### 1. Cargo los parámetros de la simulación\n",
    "\n",
    "Todos los parámetros a continuación conviene no cambiarlos. Aquí se setean los parámetros de la geometría del arreglo transmisor, el receptor, la frecuencia, etc."
   ]
  },
  {
   "cell_type": "code",
   "execution_count": 6,
   "metadata": {
    "colab": {
     "base_uri": "https://localhost:8080/"
    },
    "id": "r5uKDddimLL5",
    "outputId": "455bd340-8ac9-4e1c-e54d-76048be5e8e6"
   },
   "outputs": [
    {
     "name": "stdout",
     "output_type": "stream",
     "text": [
      "epsr*:  (76.93933082277803-23.78613112690477j)\n",
      "Permitividad medio: 76.93933082277803\n",
      "Conductividad medio: 0.7675035633999864\n"
     ]
    }
   ],
   "source": [
    "from forward import *\n",
    "import time as tm\n",
    "import numpy as np\n",
    "import matplotlib.pyplot as plt\n",
    "\n",
    "start_time = tm.strftime('%H:%M:%S')\n",
    "f = 580e6\n",
    "sx = 0.3\n",
    "sy = 0.3\n",
    "box = [sx,sy]\n",
    "a = 0.005\n",
    "resolucion = 5\n",
    "n = resolucion*sx/a\n",
    "\n",
    "\n",
    "TRANSMISOR_parameters = TRANSMISOR_parameters()\n",
    "TRANSMISOR_parameters.f = f\n",
    "TRANSMISOR_parameters.amp = 7.5e4\n",
    "TRANSMISOR_parameters.rhoS = 0.115\n",
    "TRANSMISOR_parameters.S = 8.\n",
    "RECEPTOR_parameters.f = f #frecuencia 1 GHz (por defecto)\n",
    "RECEPTOR_parameters.amp = 7.5e4#3500 #Amplitud de la fuente\n",
    "RECEPTOR_parameters.rhoS = 0.115 #radio de transmisores\n",
    "RECEPTOR_parameters.S = 8. ##cantidad de transmisores (fuentes)\n",
    "#Coordenadas antenas\n",
    "angulo = np.linspace(0.0, 2.0*pi, 9)\n",
    "xantenas = (TRANSMISOR_parameters.rhoS)*np.cos(angulo)\n",
    "yantenas = (TRANSMISOR_parameters.rhoS)*np.sin(angulo)\n",
    "\n",
    "frel = 20e9\n",
    "sigmadc = 0.7 #Medido en continua\n",
    "epsc = 4.8+(77.0-4.8)/(1+1j*TRANSMISOR_parameters.f/frel)+sigmadc/(1j*eps0*2*pi*TRANSMISOR_parameters.f)\n",
    "ACOPLANTE_parameters = ACOPLANTE_parameters()\n",
    "ACOPLANTE_parameters.f = TRANSMISOR_parameters.f\n",
    "ACOPLANTE_parameters.epsr = epsc.real  #frecuencia 1 GHz (por defecto).\n",
    "ACOPLANTE_parameters.sigma = -epsc.imag*(eps0*2*pi*TRANSMISOR_parameters.f)\n",
    "print(\"epsr*: \",epsc)\n",
    "print('Permitividad medio:',ACOPLANTE_parameters.epsr)\n",
    "print('Conductividad medio:',ACOPLANTE_parameters.sigma)"
   ]
  },
  {
   "cell_type": "markdown",
   "metadata": {
    "id": "1DfaxNOUKict"
   },
   "source": [
    "### 2. Cargo los parámetros de los fantomas\n",
    "\n",
    "Aquí vamos a definir los tres cilindros antes mencionados con una posición arbitraria en tres objetos dispersores diferentes.\n",
    "\n",
    "- Cilindro de Nylon:"
   ]
  },
  {
   "cell_type": "code",
   "execution_count": 7,
   "metadata": {
    "colab": {
     "base_uri": "https://localhost:8080/"
    },
    "id": "5V14oIuVmLL7",
    "outputId": "883842b7-1695-4c54-d321-52898e9fd1f8"
   },
   "outputs": [
    {
     "name": "stdout",
     "output_type": "stream",
     "text": [
      "Xc: 0.0 Yc: 0.0 r: 0.0175\n",
      "Permitividad del cilindro: 3.1\n",
      "Conductividad del cilindro: 0.0\n"
     ]
    }
   ],
   "source": [
    "rn = 35.0e-3/2\n",
    "Xcn = 0.0\n",
    "Ycn = 0.0\n",
    "print('Xc:', Xcn,'Yc:', Ycn,'r:',rn)\n",
    "cilindro_n = SCATTERER_parameters()\n",
    "cilindro_n.epsr = 3.1\n",
    "cilindro_n.sigma = 0.0\n",
    "cilindro_n.f = TRANSMISOR_parameters.f #frecuencia 1 GHz (por defecto).\n",
    "cilindro_n.radio = rn\n",
    "cilindro_n.xc = Xcn\n",
    "cilindro_n.yc = Ycn\n",
    "print('Permitividad del cilindro:',cilindro_n.epsr)\n",
    "print('Conductividad del cilindro:',cilindro_n.sigma)"
   ]
  },
  {
   "cell_type": "markdown",
   "metadata": {
    "id": "DfgAzhaBmLL8"
   },
   "source": [
    "- Cilindro de 80 % Glycerol"
   ]
  },
  {
   "cell_type": "code",
   "execution_count": 8,
   "metadata": {
    "colab": {
     "base_uri": "https://localhost:8080/"
    },
    "id": "4us3g4KxVjZw",
    "outputId": "244e612e-3a43-4ff2-d37e-6ebd198559d3"
   },
   "outputs": [
    {
     "name": "stdout",
     "output_type": "stream",
     "text": [
      "Xc: 0.0 Yc: 0.0 r: 0.033\n",
      "Permitividad del cilindro: 40.0\n",
      "Conductividad del cilindro: 0.6453370321597649\n"
     ]
    }
   ],
   "source": [
    "rg80 = 66.0e-3/2\n",
    "Xcg80 = 0.0\n",
    "Ycg80 = 0.0\n",
    "print('Xc:', Xcg80,'Yc:', Ycg80,'r:',rg80)\n",
    "cilindro_g80 = SCATTERER_parameters()\n",
    "cilindro_g80.epsr = 40.0\n",
    "cilindro_g80.sigma = 20.0*2*pi*TRANSMISOR_parameters.f*eps0\n",
    "cilindro_g80.f = TRANSMISOR_parameters.f #frecuencia 1 GHz (por defecto).\n",
    "cilindro_g80.radio = rg80\n",
    "cilindro_g80.xc = Xcg80\n",
    "cilindro_g80.yc = Ycg80\n",
    "print('Permitividad del cilindro:',cilindro_g80.epsr)\n",
    "print('Conductividad del cilindro:',cilindro_g80.sigma)"
   ]
  },
  {
   "cell_type": "markdown",
   "metadata": {
    "id": "W0jlEOVWWnyB"
   },
   "source": [
    "- Cilindro de 100 % Glycerol"
   ]
  },
  {
   "cell_type": "code",
   "execution_count": 9,
   "metadata": {
    "colab": {
     "base_uri": "https://localhost:8080/"
    },
    "id": "zKJABxRDWunZ",
    "outputId": "8bbf1c48-b660-47d9-988d-7928aac8159e"
   },
   "outputs": [
    {
     "name": "stdout",
     "output_type": "stream",
     "text": [
      "Xc: 0.0 Yc: 0.0 r: 0.026\n",
      "Permitividad del cilindro: 40.0\n",
      "Conductividad del cilindro: 0.25\n",
      "Parte imaginaria de la permitividad : 7.7478894760872175\n"
     ]
    }
   ],
   "source": [
    "rg = 52.0e-3/2\n",
    "Xcg = 0.0\n",
    "Ycg = 0.0\n",
    "print('Xc:', Xcg,'Yc:', Ycg,'r:',rg)\n",
    "cilindro_g = SCATTERER_parameters()\n",
    "cilindro_g.epsr = 40.0\n",
    "cilindro_g.sigma = 0.25\n",
    "cilindro_g.f = TRANSMISOR_parameters.f\n",
    "cilindro_g.radio = rg\n",
    "cilindro_g.xc = Xcg\n",
    "cilindro_g.yc = Ycg\n",
    "print('Permitividad del cilindro:',cilindro_g.epsr)\n",
    "print('Conductividad del cilindro:',cilindro_g.sigma)\n",
    "print('Parte imaginaria de la permitividad :', 0.25/(2*pi*TRANSMISOR_parameters.f*eps0))"
   ]
  },
  {
   "cell_type": "markdown",
   "metadata": {
    "id": "SOj14dDzYTBl"
   },
   "source": [
    "### 3. Inicio de simulación\n",
    "\n",
    "Aquí inicio la simulación el número de transmisor se encuentra en la variable tx, y va de 0 a 7 porque seteamos 8 transmisores. La simulación es con el método FDTD utilizando la herramienta Meep (https://meep.readthedocs.io/en/master/) que se llama dentro de la librería forward.py. La función RunMeep implementa la simulación y tienen como argumentos los objetos: dispersor, acoplante, transmisor (arreglo transmisor), tx (número de transmisor) estás son respectivamente, cilindro_n,ACOPLANTE_parameters,TRANSMISOR_parameters,tx en este ejemplo. Hay otros argumentos que es conveniente no modificar.\n",
    "\n",
    "Por ejemplo, para simular el cilindro de Nylon centrando en (0.0,0.0) cm emitiendo con el primer transmisor (tx = 0) puedo hacer lo siguiente:"
   ]
  },
  {
   "cell_type": "code",
   "execution_count": 10,
   "metadata": {
    "colab": {
     "base_uri": "https://localhost:8080/",
     "height": 1000,
     "referenced_widgets": [
      "780c0b49b3c146b9ae81857f516866a6",
      "7f4322fee9384c4492c83c86d5268925",
      "d9271c135321487caae0288c9bbbd21a"
     ]
    },
    "id": "xXc4lHLdmLL8",
    "outputId": "875d4e3c-c35b-4f7c-85ba-7ca0647c1ffe"
   },
   "outputs": [
    {
     "name": "stdout",
     "output_type": "stream",
     "text": [
      "sxa:  60.0 sxa:  60.0\n",
      "-----------\n",
      "Initializing structure...\n",
      "time for choose_chunkdivision = 0.000416994 s\n",
      "Working in 2D dimensions.\n",
      "Computational cell is 60 x 60 x 0 with resolution 5\n",
      "     cylinder, center = (0,0,0)\n",
      "          radius 3.5, height 1e+20, axis (0, 0, 1)\n",
      "          dielectric constant epsilon diagonal = (3.1,3.1,3.1)\n",
      "time for set_epsilon = 0.064045 s\n",
      "time for set_conductivity = 0.00452995 s\n",
      "time for set_conductivity = 0.00387907 s\n",
      "time for set_conductivity = 0.00671816 s\n",
      "-----------\n",
      "Meep: using complex fields.\n"
     ]
    },
    {
     "data": {
      "application/vnd.jupyter.widget-view+json": {
       "model_id": "780c0b49b3c146b9ae81857f516866a6",
       "version_major": 2,
       "version_minor": 0
      },
      "text/plain": [
       "FloatProgress(value=0.0, description='0% done ', max=3000.0)"
      ]
     },
     "metadata": {},
     "output_type": "display_data"
    },
    {
     "name": "stdout",
     "output_type": "stream",
     "text": [
      "Meep progress: 179.0/3000.0 = 6.0% done in 4.0s, 63.1s to go\n",
      "on time step 1797 (time=179.7), 0.00222633 s/step\n",
      "Meep progress: 426.6/3000.0 = 14.2% done in 8.0s, 48.3s to go\n",
      "on time step 4272 (time=427.2), 0.00161618 s/step\n",
      "Meep progress: 677.7/3000.0 = 22.6% done in 12.0s, 41.1s to go\n",
      "on time step 6790 (time=679), 0.00158868 s/step\n",
      "Meep progress: 983.1/3000.0 = 32.8% done in 16.0s, 32.8s to go\n",
      "on time step 9852 (time=985.2), 0.00130693 s/step\n",
      "Meep progress: 1280.6000000000001/3000.0 = 42.7% done in 20.0s, 26.9s to go\n",
      "on time step 12817 (time=1281.7), 0.00134955 s/step\n",
      "Meep progress: 1487.0/3000.0 = 49.6% done in 24.0s, 24.4s to go\n",
      "on time step 14887 (time=1488.7), 0.00193293 s/step\n",
      "Meep progress: 1793.6000000000001/3000.0 = 59.8% done in 28.0s, 18.8s to go\n",
      "on time step 17944 (time=1794.4), 0.0013096 s/step\n",
      "Meep progress: 2103.7000000000003/3000.0 = 70.1% done in 32.0s, 13.6s to go\n",
      "on time step 21067 (time=2106.7), 0.00128105 s/step\n",
      "Meep progress: 2330.9/3000.0 = 77.7% done in 36.0s, 10.3s to go\n",
      "on time step 23328 (time=2332.8), 0.00177002 s/step\n",
      "Meep progress: 2620.2000000000003/3000.0 = 87.3% done in 40.0s, 5.8s to go\n",
      "on time step 26237 (time=2623.7), 0.00137515 s/step\n",
      "Meep progress: 2902.6000000000004/3000.0 = 96.8% done in 44.0s, 1.5s to go\n",
      "on time step 29057 (time=2905.7), 0.001419 s/step\n",
      "run 0 finished at t = 3000.0 (30000 timesteps)\n"
     ]
    },
    {
     "data": {
      "image/png": "[encoded data removed]",
      "text/plain": [
       "<Figure size 640x480 with 2 Axes>"
      ]
     },
     "metadata": {},
     "output_type": "display_data"
    }
   ],
   "source": [
    "\n",
    "tx = 0\n",
    "\n",
    "cilindro_n.xc = 0.0\n",
    "cilindro_n.yc = 0.0\n",
    "\n",
    "Ezfdtd,eps_data = RunMeep(cilindro_n,ACOPLANTE_parameters,TRANSMISOR_parameters,tx, box,RES = resolucion,calibration = False, unit = a,nt = 3000)\n",
    "\n",
    "plt.figure()\n",
    "extent2=[-0.3/2,0.3/2,-0.3/2,0.3/2]\n",
    "plt.imshow(abs(Ezfdtd),cmap ='pink',origin='lower',extent = extent2)\n",
    "plt.colorbar()\n",
    "#Dibujo el mapa de permitividad\n",
    "NN = len(eps_data)\n",
    "deltaX = sx/(NN)"
   ]
  },
  {
   "cell_type": "markdown",
   "metadata": {
    "id": "FuweQZ8JmLL9"
   },
   "source": [
    "### 4. Comparo con solución analítica (solo cilindros centrados)\n",
    "\n",
    "Luego también se puede comparar con la solución analítica, pero esta función está implementada solamente para cilindros centrados. Además no está muy bien programada, tarda bastante más. La uso para validar el método numérico FDTD."
   ]
  },
  {
   "cell_type": "code",
   "execution_count": 11,
   "metadata": {
    "id": "1VHsVQK6mLL9"
   },
   "outputs": [],
   "source": [
    "x,Eztheory1 = EZ_CILINDER_LINESOURCE_MATRIZ(eps_data,cilindro_n,ACOPLANTE_parameters,TRANSMISOR_parameters,tx,deltaX)"
   ]
  },
  {
   "cell_type": "markdown",
   "metadata": {
    "id": "ZfG_sit1mLL9"
   },
   "source": [
    "Luego dibujamos y comparamos en la posición x = 0, para todo y."
   ]
  },
  {
   "cell_type": "code",
   "execution_count": 12,
   "metadata": {
    "colab": {
     "base_uri": "https://localhost:8080/",
     "height": 484
    },
    "id": "lfmgomghmLL9",
    "outputId": "13a53f45-b1be-494a-8e80-331aab8b0a4f"
   },
   "outputs": [
    {
     "data": {
      "image/png": "[encoded data removed]",
      "text/plain": [
       "<Figure size 640x480 with 2 Axes>"
      ]
     },
     "metadata": {},
     "output_type": "display_data"
    },
    {
     "name": "stdout",
     "output_type": "stream",
     "text": [
      "start time:  17:40:00\n",
      "end time:    17:46:07\n"
     ]
    }
   ],
   "source": [
    "x = np.linspace(-len(eps_data)*deltaX/2., len(eps_data)*deltaX/2., len(eps_data))\n",
    "\n",
    "fig2 = plt.figure(2)\n",
    "f2 = fig2.add_subplot(211)\n",
    "f2.plot(x,abs(Eztheory1[:,int(len(Eztheory1)/2)]),'b')\n",
    "f2.plot(x,abs(Ezfdtd[:,int(len(Ezfdtd)/2)]),'.g')\n",
    "f2.set_xlabel(r'y')\n",
    "f2.set_ylabel(r'abs($E_{z}$)')\n",
    "f2 = fig2.add_subplot(212)\n",
    "f2.plot(x,np.angle(Eztheory1)[:,int(len(Eztheory1)/2)],'b')\n",
    "f2.plot(x,-np.angle(Ezfdtd)[:,int(len(Ezfdtd)/2)],'.g')\n",
    "f2.set_xlabel(r'y')\n",
    "f2.set_ylabel(r'angle($E_{z}$)')\n",
    "\n",
    "plt.show()\n",
    "\n",
    "print('start time: ', start_time)\n",
    "print('end time:   ', tm.strftime('%H:%M:%S'))"
   ]
  },
  {
   "cell_type": "code",
   "execution_count": null,
   "metadata": {
    "id": "VU0KWxW5mLL-"
   },
   "outputs": [],
   "source": []
  }
 ],
 "metadata": {
  "colab": {
   "provenance": []
  },
  "kernelspec": {
   "display_name": "Python 3 (ipykernel)",
   "language": "python",
   "name": "python3"
  },
  "language_info": {
   "codemirror_mode": {
    "name": "ipython",
    "version": 3
   },
   "file_extension": ".py",
   "mimetype": "text/x-python",
   "name": "python",
   "nbconvert_exporter": "python",
   "pygments_lexer": "ipython3",
   "version": "3.12.3"
  },
  "widgets": {
   "application/vnd.jupyter.widget-state+json": {
    "780c0b49b3c146b9ae81857f516866a6": {
     "model_module": "@jupyter-widgets/controls",
     "model_module_version": "1.5.0",
     "model_name": "FloatProgressModel",
     "state": {
      "_dom_classes": [],
      "_model_module": "@jupyter-widgets/controls",
      "_model_module_version": "1.5.0",
      "_model_name": "FloatProgressModel",
      "_view_count": null,
      "_view_module": "@jupyter-widgets/controls",
      "_view_module_version": "1.5.0",
      "_view_name": "ProgressView",
      "bar_style": "",
      "description": "100% done ",
      "description_tooltip": null,
      "layout": "IPY_MODEL_7f4322fee9384c4492c83c86d5268925",
      "max": 3000,
      "min": 0,
      "orientation": "horizontal",
      "style": "IPY_MODEL_d9271c135321487caae0288c9bbbd21a",
      "value": 3000
     }
    },
    "7f4322fee9384c4492c83c86d5268925": {
     "model_module": "@jupyter-widgets/base",
     "model_module_version": "1.2.0",
     "model_name": "LayoutModel",
     "state": {
      "_model_module": "@jupyter-widgets/base",
      "_model_module_version": "1.2.0",
      "_model_name": "LayoutModel",
      "_view_count": null,
      "_view_module": "@jupyter-widgets/base",
      "_view_module_version": "1.2.0",
      "_view_name": "LayoutView",
      "align_content": null,
      "align_items": null,
      "align_self": null,
      "border": null,
      "bottom": null,
      "display": null,
      "flex": null,
      "flex_flow": null,
      "grid_area": null,
      "grid_auto_columns": null,
      "grid_auto_flow": null,
      "grid_auto_rows": null,
      "grid_column": null,
      "grid_gap": null,
      "grid_row": null,
      "grid_template_areas": null,
      "grid_template_columns": null,
      "grid_template_rows": null,
      "height": null,
      "justify_content": null,
      "justify_items": null,
      "left": null,
      "margin": null,
      "max_height": null,
      "max_width": null,
      "min_height": null,
      "min_width": null,
      "object_fit": null,
      "object_position": null,
      "order": null,
      "overflow": null,
      "overflow_x": null,
      "overflow_y": null,
      "padding": null,
      "right": null,
      "top": null,
      "visibility": null,
      "width": null
     }
    },
    "d9271c135321487caae0288c9bbbd21a": {
     "model_module": "@jupyter-widgets/controls",
     "model_module_version": "1.5.0",
     "model_name": "ProgressStyleModel",
     "state": {
      "_model_module": "@jupyter-widgets/controls",
      "_model_module_version": "1.5.0",
      "_model_name": "ProgressStyleModel",
      "_view_count": null,
      "_view_module": "@jupyter-widgets/base",
      "_view_module_version": "1.2.0",
      "_view_name": "StyleView",
      "bar_color": null,
      "description_width": ""
     }
    }
   }
  }
 },
 "nbformat": 4,
 "nbformat_minor": 1
}
