{
 "cells": [
  {
   "cell_type": "markdown",
   "metadata": {},
   "source": [
    "# Example 1: mesh generation\n",
    "\n",
    "The Jupyter Notebooks in the repository provide an introduction to meshing for FEM and visualizing (using Gmsh and FEniCS). To execute any of the notebooks either locally or in Google Colaboratory, please see the next section for setup instructions.\n",
    "\n",
    "<p><a href=\"https://colab.research.google.com/github/rirastorza/RFA-tutorial/blob/master/run/coding.ipynb\"><img align=\"left\" src=\"https://colab.research.google.com/assets/colab-badge.svg\" alt=\"Open in Colab\" title=\"Open in Google Colaboratory\"></a>\n"
   ]
  },
  {
   "cell_type": "markdown",
   "metadata": {},
   "source": [
    "\n",
    "## Executing using Jupyter Notebook or Installing FEniCS in Colab\n",
    "\n",
    "### Installing FEniCS in Colab\n",
    "\n",
    "This step is only necesary if we are going to run this simulation in Colab. We have to install the FEniCS packages. The instructions below will install a collection of packages that allows to easily install several finite element libraries on Google Colab. This solution is provided by https://fem-on-colab.github.io/"
   ]
  },
  {
   "cell_type": "code",
   "execution_count": null,
   "metadata": {},
   "outputs": [],
   "source": [
    "%%capture\n",
    "try:\n",
    "    import dolfin\n",
    "except ImportError:\n",
    "    !wget \"https://fem-on-colab.github.io/releases/fenics-install.sh\" -O \"/tmp/fenics-install.sh\" && bash \"/tmp/fenics-install.sh\"\n",
    "    import dolfin"
   ]
  },
  {
   "cell_type": "markdown",
   "metadata": {},
   "source": [
    "## Installing Gmsh\n",
    "\n",
    "This step will install the software for meshing Gmsh https://gmsh.info/"
   ]
  },
  {
   "cell_type": "code",
   "execution_count": null,
   "metadata": {},
   "outputs": [],
   "source": [
    "%%capture\n",
    "!apt install gmsh"
   ]
  },
  {
   "cell_type": "markdown",
   "metadata": {},
   "source": [
    "### Running a Jupyter Notebook\n",
    "\n",
    "Once you clone this repository and are in the correct folder you can run this notebook by the following sentence in the command line interface:\n",
    "\n",
    "*jupyter notebook coding.ipynb*"
   ]
  },
  {
   "cell_type": "markdown",
   "metadata": {},
   "source": [
    "## Mesh generation \n",
    "\n",
    "This step is the first part of the script *plot_permittivity_map.py* in the folder meshes. This can be done in the command line but here is prefered the scripting form using the tool *os* in python. "
   ]
  },
  {
   "cell_type": "code",
   "execution_count": null,
   "metadata": {},
   "outputs": [],
   "source": [
    "from __future__ import print_function\n",
    "\n",
    "import os\n",
    "import numpy as np\n",
    "from scipy.constants import epsilon_0, pi\n",
    "\n",
    "filename = 'patient1_slice1'\n",
    "string = \"gmsh -2 -clmax 20.e-3 \"+filename+\".geo\"\n",
    "os.system(string)\n",
    "string = \"dolfin-convert \"+filename+\".msh \"+filename+\".xml\"\n",
    "os.system(string)"
   ]
  },
  {
   "cell_type": "markdown",
   "metadata": {},
   "source": [
    "Note that the file *patient1_slice1.geo* should be loaded in Colab."
   ]
  },
  {
   "cell_type": "code",
   "execution_count": null,
   "metadata": {},
   "outputs": [],
   "source": []
  }
 ],
 "metadata": {
  "kernelspec": {
   "display_name": "Python 3",
   "language": "python",
   "name": "python3"
  },
  "language_info": {
   "codemirror_mode": {
    "name": "ipython",
    "version": 3
   },
   "file_extension": ".py",
   "mimetype": "text/x-python",
   "name": "python",
   "nbconvert_exporter": "python",
   "pygments_lexer": "ipython3",
   "version": "3.5.2"
  }
 },
 "nbformat": 4,
 "nbformat_minor": 2
}
